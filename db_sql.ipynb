{
 "cells": [
  {
   "cell_type": "code",
   "execution_count": 12,
   "metadata": {},
   "outputs": [],
   "source": [
    "import sqlite3"
   ]
  },
  {
   "cell_type": "code",
   "execution_count": 17,
   "metadata": {},
   "outputs": [],
   "source": [
    "connector = sqlite3.connect('data/zmones.db')\n",
    "cursor = connector.cursor()\n",
    "\n",
    "query = '''\n",
    "CREATE TABLE IF NOT EXISTS draugai (\n",
    "    first_name VARCHAR(50), \n",
    "    last_name VARCHAR(255), \n",
    "    email VARCHAR(255)\n",
    ");\n",
    "'''\n",
    "cursor.execute(query)\n",
    "connector.commit()\n",
    "connector.close()\n"
   ]
  },
  {
   "cell_type": "code",
   "execution_count": 39,
   "metadata": {},
   "outputs": [],
   "source": [
    "query = '''\n",
    "INSERT INTO draugai \n",
    "    (first_name, last_name, email) \n",
    "    VALUES \n",
    "    (\"Smagus\", \"Gerulis\", \"gerulis@gmail.com\");\n",
    "'''\n",
    "\n",
    "# context manegeris atidaro DB, atlieka reikiamus comit ir uzdaro\n",
    "with connector:\n",
    "    connector.cursor().execute(query)\n",
    "    "
   ]
  },
  {
   "cell_type": "code",
   "execution_count": 34,
   "metadata": {},
   "outputs": [
    {
     "ename": "OperationalError",
     "evalue": "near \"TABLE\": syntax error",
     "output_type": "error",
     "traceback": [
      "\u001b[1;31m---------------------------------------------------------------------------\u001b[0m",
      "\u001b[1;31mOperationalError\u001b[0m                          Traceback (most recent call last)",
      "Cell \u001b[1;32mIn [34], line 6\u001b[0m\n\u001b[0;32m      4\u001b[0m connector \u001b[39m=\u001b[39m sqlite3\u001b[39m.\u001b[39mconnect(\u001b[39m\"\u001b[39m\u001b[39mdata/zmones.db\u001b[39m\u001b[39m\"\u001b[39m)\n\u001b[0;32m      5\u001b[0m \u001b[39mwith\u001b[39;00m connector:\n\u001b[1;32m----> 6\u001b[0m     connector\u001b[39m.\u001b[39;49mcursor()\u001b[39m.\u001b[39;49mexecute(query)\n",
      "\u001b[1;31mOperationalError\u001b[0m: near \"TABLE\": syntax error"
     ]
    }
   ],
   "source": [
    "# query = '''\n",
    "# DELETE TABLE draugai;\n",
    "# '''\n",
    "# connector = sqlite3.connect(\"data/zmones.db\")\n",
    "# with connector:\n",
    "#     connector.cursor().execute(query)"
   ]
  },
  {
   "cell_type": "code",
   "execution_count": 32,
   "metadata": {},
   "outputs": [
    {
     "name": "stdout",
     "output_type": "stream",
     "text": [
      "('Smagus', 'Gerulis', 'gerulis@gmail.com')\n"
     ]
    }
   ],
   "source": [
    "# skaitom DB (po viena)\n",
    "with connector:\n",
    "    # kursoriu reikia pasiimti i kintamaji, nes jame nugula rezultato generatorius\n",
    "    cursor = connector.cursor()\n",
    "    cursor.execute(\"SELECT * FROM draugai;\")\n",
    "    print(cursor.fetchone())\n"
   ]
  },
  {
   "cell_type": "code",
   "execution_count": 51,
   "metadata": {},
   "outputs": [
    {
     "name": "stdout",
     "output_type": "stream",
     "text": [
      "[('Smagus', 'Gerulis', 'gerulis@gmail.com')]\n"
     ]
    }
   ],
   "source": [
    "# nuskaitome visus duomenis i sarasa su .fetchall()\n",
    "with connector:\n",
    "    cursor = connector.cursor()\n",
    "    cursor.execute(\"SELECT * FROM draugai;\")\n",
    "    print(cursor.fetchall())"
   ]
  },
  {
   "cell_type": "code",
   "execution_count": 46,
   "metadata": {},
   "outputs": [
    {
     "name": "stdout",
     "output_type": "stream",
     "text": [
      "[('Smagus', 'Gerulis', 'gerulis@gmail.com')]\n"
     ]
    }
   ],
   "source": [
    "# taisom situacija\n",
    "with connector:\n",
    "    cursor = connector.cursor()\n",
    "    cursor.execute(\"DELETE FROM draugai WHERE rowid > 1;\")\n",
    "    cursor.execute(\"SELECT * FROM draugai;\")\n",
    "    print(cursor.fetchall())"
   ]
  },
  {
   "cell_type": "code",
   "execution_count": 50,
   "metadata": {},
   "outputs": [
    {
     "name": "stdout",
     "output_type": "stream",
     "text": [
      "[('Smagus', 'Gerulis', 'gerulis@gmail.com')]\n"
     ]
    }
   ],
   "source": [
    "# irasu atnaujinimas\n",
    "with connector:\n",
    "    cursor = connector.cursor()\n",
    "    cursor.execute('UPDATE draugai SET first_name=\"Zalias\" WHERE last_name=\"Programuotojas\";')\n",
    "    cursor.execute('SELECT * FROM draugai;')\n",
    "    print(cursor.fetchall())"
   ]
  },
  {
   "cell_type": "code",
   "execution_count": 56,
   "metadata": {},
   "outputs": [],
   "source": [
    "nauji_draugai = [\n",
    "    ('Naujas', 'Draugelis', 'naujas@draugelis.lt'),\n",
    "    ('Grazi', 'Mergaite', 'grazuole@gmail.com'),\n",
    "    ('Senas', 'Diedulis', 'diedux@yahoo.com'),\n",
    "]\n",
    "\n",
    "with connector:\n",
    "    cursor = connector.cursor()\n",
    "    cursor.executemany('INSERT INTO draugai VALUES (?, ?, ?)', (nauji_draugai))"
   ]
  },
  {
   "cell_type": "code",
   "execution_count": 58,
   "metadata": {},
   "outputs": [
    {
     "name": "stdout",
     "output_type": "stream",
     "text": [
      "- (1, 'Smagus', 'Gerulis', 'gerulis@gmail.com')\n",
      "- (3, 'Blogas', 'Hakeris', 'haxxxx@dark.net')\n",
      "- (5, 'Grazi', 'Mergaite', 'grazuole@gmail.com')\n",
      "- (7, 'Naujas', 'Draugelis', 'naujas@draugelis.lt')\n"
     ]
    }
   ],
   "source": [
    "ids = (1, 3, 5, 7)\n",
    "\n",
    "with connector:\n",
    "    cursor = connector.cursor()\n",
    "    cursor.execute('SELECT rowid, * FROM draugai WHERE rowid IN (?, ?, ?, ?)', ids)\n",
    "    draugai = cursor.fetchall()\n",
    "    for draugas in draugai:\n",
    "        print(f'- {draugas}')"
   ]
  }
 ],
 "metadata": {
  "kernelspec": {
   "display_name": "Python 3",
   "language": "python",
   "name": "python3"
  },
  "language_info": {
   "codemirror_mode": {
    "name": "ipython",
    "version": 3
   },
   "file_extension": ".py",
   "mimetype": "text/x-python",
   "name": "python",
   "nbconvert_exporter": "python",
   "pygments_lexer": "ipython3",
   "version": "3.10.6"
  },
  "orig_nbformat": 4,
  "vscode": {
   "interpreter": {
    "hash": "326e6283bcbb90806f47fd817b999ec6f0b60da0656b4846d5eaee6cca0d18e0"
   }
  }
 },
 "nbformat": 4,
 "nbformat_minor": 2
}
