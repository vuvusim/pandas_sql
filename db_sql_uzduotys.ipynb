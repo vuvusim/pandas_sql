{
 "cells": [
  {
   "cell_type": "code",
   "execution_count": 1,
   "metadata": {},
   "outputs": [],
   "source": [
    "import sqlite3"
   ]
  },
  {
   "cell_type": "code",
   "execution_count": 2,
   "metadata": {},
   "outputs": [],
   "source": [
    "connector = sqlite3.connect('data/dzidzi.db')\n",
    "cursor = connector.cursor()\n",
    "\n",
    "query = '''\n",
    "CREATE TABLE masinos (\n",
    "    marke VARCHAR(255), \n",
    "    modelis VARCHAR(255), \n",
    "    spalva VARCHAR(255), \n",
    "    pagaminimo_meatai VARCHAR(255), \n",
    "    kaina INTEGER\n",
    ");\n",
    "'''\n",
    "cursor.execute(query)\n",
    "connector.commit()\n",
    "connector.close()"
   ]
  }
 ],
 "metadata": {
  "kernelspec": {
   "display_name": "Python 3",
   "language": "python",
   "name": "python3"
  },
  "language_info": {
   "codemirror_mode": {
    "name": "ipython",
    "version": 3
   },
   "file_extension": ".py",
   "mimetype": "text/x-python",
   "name": "python",
   "nbconvert_exporter": "python",
   "pygments_lexer": "ipython3",
   "version": "3.10.6"
  },
  "orig_nbformat": 4,
  "vscode": {
   "interpreter": {
    "hash": "326e6283bcbb90806f47fd817b999ec6f0b60da0656b4846d5eaee6cca0d18e0"
   }
  }
 },
 "nbformat": 4,
 "nbformat_minor": 2
}
